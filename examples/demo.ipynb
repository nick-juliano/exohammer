{
 "cells": [
  {
   "cell_type": "code",
   "execution_count": 1,
   "id": "ff36b26c",
   "metadata": {},
   "outputs": [
    {
     "data": {
      "text/plain": [
       "{'mass_b': [3.0034893488507934e-06, 3.0034893488507933e-05],\n",
       " 'period_b': [13.799, 13.899000000000001],\n",
       " 'eccentricity_b': [0.0, 0.04],\n",
       " 'inclination_b': [90],\n",
       " 'longnode_b': [0.0],\n",
       " 'argument_b': [0.0, 360.0],\n",
       " 'mean_anomaly_b': [0.0, 360.0],\n",
       " 'mass_c': [3.0034893488507934e-06, 3.0034893488507933e-05],\n",
       " 'period_c': [16.186899999999998, 16.2869],\n",
       " 'eccentricity_c': [0.0, 0.04],\n",
       " 'inclination_c': [90],\n",
       " 'longnode_c': [0.0],\n",
       " 'argument_c': [0.0, 360.0],\n",
       " 'mean_anomaly_c': [0.0, 360.0],\n",
       " 'mass_d': [3.0034893488507934e-06, 0.0012013957395403173],\n",
       " 'period_d': [40, 600],\n",
       " 'eccentricity_d': [0.0],\n",
       " 'inclination_d': [90.0],\n",
       " 'longnode_d': [0.0],\n",
       " 'argument_d': [0.0],\n",
       " 'mean_anomaly_d': [0.0, 360.0]}"
      ]
     },
     "execution_count": 1,
     "metadata": {},
     "output_type": "execute_result"
    }
   ],
   "source": [
    "import emcee\n",
    "import json\n",
    "import pandas as pd\n",
    "import exohammer as exo\n",
    "\n",
    "# Load measurement data\n",
    "rv_df = pd.read_csv('./example_data/RV_kepler-36.csv')\n",
    "k36b_ttv_df = pd.read_csv('./example_data/TTV_kepler-36b.csv')\n",
    "k36c_ttv_df = pd.read_csv('./example_data/TTV_kepler-36c.csv')\n",
    "\n",
    "# Load priors for orbital elements and stellar mass\n",
    "with open('./example_data/orbital_elements.json', 'r') as f:\n",
    "    orbital_elements = json.load(f)\n",
    "    m_star = orbital_elements.pop('m_star')\n",
    "\n",
    "orbital_elements"
   ]
  },
  {
   "cell_type": "code",
   "execution_count": 2,
   "id": "cdfdf4e3",
   "metadata": {},
   "outputs": [],
   "source": [
    "kepler_36 = exo.planetary_system.PlanetarySystem(nplanets_ttvs=2, \n",
    "                                                 nplanets_rvs=3, \n",
    "                                                 orbital_elements=orbital_elements)\n",
    "\n",
    "data = exo.data.Data(m_star)\n",
    "\n",
    "data.add_ttv(planet_label = 'b',\n",
    "             epoch = k36b_ttv_df['epoch'].astype(int).to_list(),\n",
    "             measured = k36b_ttv_df['Transit Time'].to_list(),\n",
    "             error = k36b_ttv_df['error'].to_list())\n",
    "\n",
    "data.add_ttv(planet_label = 'c',\n",
    "             epoch = k36c_ttv_df['epoch'].astype(int).to_list(),\n",
    "             measured = k36c_ttv_df['Transit Time'].to_list(),\n",
    "             error = k36c_ttv_df['error'].to_list())\n",
    "\n",
    "data.add_rvs(bjds = rv_df['BJD'].to_list(),\n",
    "             velocities= rv_df['mean_velocity'].to_list(),\n",
    "             error = rv_df['velocity_error'].to_list())\n",
    "run = exo.mcmc_run.MCMCRun(kepler_36, data)\n"
   ]
  },
  {
   "cell_type": "code",
   "execution_count": 3,
   "id": "97f69aad",
   "metadata": {},
   "outputs": [
    {
     "name": "stdout",
     "output_type": "stream",
     "text": [
      "Steps completed: 0\n",
      "Run 0 of 10000, 1000 steps\n"
     ]
    },
    {
     "name": "stderr",
     "output_type": "stream",
     "text": [
      "  0%|          | 0/1000 [00:00<?, ?it/s]/opt/anaconda3/envs/exo_env/lib/python3.8/site-packages/emcee/moves/red_blue.py:99: RuntimeWarning: invalid value encountered in double_scalars\n",
      "  lnpdiff = f + nlp - state.log_prob[j]\n",
      "100%|██████████| 1000/1000 [00:29<00:00, 34.17it/s]"
     ]
    },
    {
     "name": "stdout",
     "output_type": "stream",
     "text": [
      "[29.667503250000003]\n"
     ]
    },
    {
     "name": "stderr",
     "output_type": "stream",
     "text": [
      "\n"
     ]
    },
    {
     "ename": "NameError",
     "evalue": "name 'np' is not defined",
     "output_type": "error",
     "traceback": [
      "\u001b[0;31m---------------------------------------------------------------------------\u001b[0m",
      "\u001b[0;31mNameError\u001b[0m                                 Traceback (most recent call last)",
      "\u001b[0;32m<ipython-input-3-7263c43085c8>\u001b[0m in \u001b[0;36m<cell line: 1>\u001b[0;34m()\u001b[0m\n\u001b[0;32m----> 1\u001b[0;31m run.explore_iteratively(total_iterations=10000000, \n\u001b[0m\u001b[1;32m      2\u001b[0m                         \u001b[0mcheckpoints\u001b[0m\u001b[0;34m=\u001b[0m\u001b[0;36m1000\u001b[0m\u001b[0;34m,\u001b[0m\u001b[0;34m\u001b[0m\u001b[0;34m\u001b[0m\u001b[0m\n\u001b[1;32m      3\u001b[0m                         \u001b[0mburnin_factor\u001b[0m\u001b[0;34m=\u001b[0m\u001b[0;36m.2\u001b[0m\u001b[0;34m,\u001b[0m\u001b[0;34m\u001b[0m\u001b[0;34m\u001b[0m\u001b[0m\n\u001b[1;32m      4\u001b[0m                         \u001b[0mthinning_factor\u001b[0m\u001b[0;34m=\u001b[0m\u001b[0;36m.001\u001b[0m\u001b[0;34m,\u001b[0m\u001b[0;34m\u001b[0m\u001b[0;34m\u001b[0m\u001b[0m\n\u001b[1;32m      5\u001b[0m \t                    moves=[(emcee.moves.DEMove(live_dangerously=True), 0.9), \n",
      "\u001b[0;32m~/Documents/GitHub/exohammer/exohammer/mcmc_run.py\u001b[0m in \u001b[0;36mexplore_iteratively\u001b[0;34m(self, total_iterations, checkpoints, burnin_factor, thinning_factor, moves, nwalkers, verbose, tune, silent)\u001b[0m\n\u001b[1;32m    119\u001b[0m                         \u001b[0mrun\u001b[0m \u001b[0;34m=\u001b[0m \u001b[0mself\u001b[0m\u001b[0;34m\u001b[0m\u001b[0;34m\u001b[0m\u001b[0m\n\u001b[1;32m    120\u001b[0m                         \u001b[0mstore\u001b[0m \u001b[0;34m=\u001b[0m \u001b[0mStoreRun\u001b[0m\u001b[0;34m(\u001b[0m\u001b[0mrun\u001b[0m\u001b[0;34m)\u001b[0m\u001b[0;34m\u001b[0m\u001b[0;34m\u001b[0m\u001b[0m\n\u001b[0;32m--> 121\u001b[0;31m                         \u001b[0mstore\u001b[0m\u001b[0;34m.\u001b[0m\u001b[0mstore_csvs\u001b[0m\u001b[0;34m(\u001b[0m\u001b[0;34m)\u001b[0m\u001b[0;34m\u001b[0m\u001b[0;34m\u001b[0m\u001b[0m\n\u001b[0m\u001b[1;32m    122\u001b[0m                         \u001b[0mrun\u001b[0m\u001b[0;34m.\u001b[0m\u001b[0mplot_chains\u001b[0m\u001b[0;34m(\u001b[0m\u001b[0;34m)\u001b[0m\u001b[0;34m\u001b[0m\u001b[0;34m\u001b[0m\u001b[0m\n\u001b[1;32m    123\u001b[0m                         \u001b[0mrun\u001b[0m\u001b[0;34m.\u001b[0m\u001b[0mautocorr\u001b[0m\u001b[0;34m(\u001b[0m\u001b[0;34m)\u001b[0m\u001b[0;34m\u001b[0m\u001b[0;34m\u001b[0m\u001b[0m\n",
      "\u001b[0;32m~/Documents/GitHub/exohammer/exohammer/store.py\u001b[0m in \u001b[0;36mstore_csvs\u001b[0;34m(self)\u001b[0m\n\u001b[1;32m     41\u001b[0m         \u001b[0mself\u001b[0m\u001b[0;34m.\u001b[0m\u001b[0mrun\u001b[0m\u001b[0;34m.\u001b[0m\u001b[0mlabels\u001b[0m \u001b[0;34m=\u001b[0m \u001b[0mself\u001b[0m\u001b[0;34m.\u001b[0m\u001b[0mrun\u001b[0m\u001b[0;34m.\u001b[0m\u001b[0msystem\u001b[0m\u001b[0;34m.\u001b[0m\u001b[0mvariable_labels\u001b[0m\u001b[0;34m\u001b[0m\u001b[0;34m\u001b[0m\u001b[0m\n\u001b[1;32m     42\u001b[0m         \u001b[0mself\u001b[0m\u001b[0;34m.\u001b[0m\u001b[0mrun\u001b[0m\u001b[0;34m.\u001b[0m\u001b[0mchain\u001b[0m \u001b[0;34m=\u001b[0m \u001b[0mself\u001b[0m\u001b[0;34m.\u001b[0m\u001b[0mrun\u001b[0m\u001b[0;34m.\u001b[0m\u001b[0msampler\u001b[0m\u001b[0;34m.\u001b[0m\u001b[0mget_chain\u001b[0m\u001b[0;34m(\u001b[0m\u001b[0mdiscard\u001b[0m\u001b[0;34m=\u001b[0m\u001b[0mself\u001b[0m\u001b[0;34m.\u001b[0m\u001b[0mrun\u001b[0m\u001b[0;34m.\u001b[0m\u001b[0mdiscard\u001b[0m\u001b[0;34m,\u001b[0m \u001b[0mthin\u001b[0m\u001b[0;34m=\u001b[0m\u001b[0mself\u001b[0m\u001b[0;34m.\u001b[0m\u001b[0mrun\u001b[0m\u001b[0;34m.\u001b[0m\u001b[0mthin\u001b[0m\u001b[0;34m)\u001b[0m\u001b[0;34m\u001b[0m\u001b[0;34m\u001b[0m\u001b[0m\n\u001b[0;32m---> 43\u001b[0;31m         \u001b[0mself\u001b[0m\u001b[0;34m.\u001b[0m\u001b[0mrun\u001b[0m\u001b[0;34m.\u001b[0m\u001b[0mttv_model\u001b[0m\u001b[0;34m,\u001b[0m \u001b[0mself\u001b[0m\u001b[0;34m.\u001b[0m\u001b[0mrun\u001b[0m\u001b[0;34m.\u001b[0m\u001b[0mttv_epoch\u001b[0m\u001b[0;34m,\u001b[0m \u001b[0mself\u001b[0m\u001b[0;34m.\u001b[0m\u001b[0mrun\u001b[0m\u001b[0;34m.\u001b[0m\u001b[0mrv_model\u001b[0m \u001b[0;34m=\u001b[0m \u001b[0mself\u001b[0m\u001b[0;34m.\u001b[0m\u001b[0mrun\u001b[0m\u001b[0;34m.\u001b[0m\u001b[0msystem\u001b[0m\u001b[0;34m.\u001b[0m\u001b[0mmodel\u001b[0m\u001b[0;34m(\u001b[0m\u001b[0mself\u001b[0m\u001b[0;34m.\u001b[0m\u001b[0mrun\u001b[0m\u001b[0;34m.\u001b[0m\u001b[0mtheta_max\u001b[0m\u001b[0;34m,\u001b[0m \u001b[0mself\u001b[0m\u001b[0;34m.\u001b[0m\u001b[0mrun\u001b[0m\u001b[0;34m.\u001b[0m\u001b[0msystem\u001b[0m\u001b[0;34m)\u001b[0m\u001b[0;34m\u001b[0m\u001b[0;34m\u001b[0m\u001b[0m\n\u001b[0m\u001b[1;32m     44\u001b[0m \u001b[0;34m\u001b[0m\u001b[0m\n\u001b[1;32m     45\u001b[0m         \u001b[0mDataFrame\u001b[0m\u001b[0;34m(\u001b[0m\u001b[0mself\u001b[0m\u001b[0;34m.\u001b[0m\u001b[0mrun\u001b[0m\u001b[0;34m.\u001b[0m\u001b[0mflatchain\u001b[0m\u001b[0;34m)\u001b[0m\u001b[0;34m.\u001b[0m\u001b[0mto_csv\u001b[0m\u001b[0;34m(\u001b[0m\u001b[0mself\u001b[0m\u001b[0;34m.\u001b[0m\u001b[0mrun\u001b[0m\u001b[0;34m.\u001b[0m\u001b[0moutput_path\u001b[0m \u001b[0;34m+\u001b[0m \u001b[0;34m'flatchain.csv'\u001b[0m\u001b[0;34m)\u001b[0m\u001b[0;34m\u001b[0m\u001b[0;34m\u001b[0m\u001b[0m\n",
      "\u001b[0;32m~/Documents/GitHub/exohammer/exohammer/model/model_both.py\u001b[0m in \u001b[0;36mmodel_both\u001b[0;34m(theta, system)\u001b[0m\n\u001b[1;32m     32\u001b[0m         \u001b[0;31m# Mask model outputs for this planet\u001b[0m\u001b[0;34m\u001b[0m\u001b[0;34m\u001b[0m\u001b[0;34m\u001b[0m\u001b[0m\n\u001b[1;32m     33\u001b[0m         \u001b[0mmask\u001b[0m \u001b[0;34m=\u001b[0m \u001b[0mmodel_index\u001b[0m \u001b[0;34m==\u001b[0m \u001b[0mi\u001b[0m\u001b[0;34m\u001b[0m\u001b[0;34m\u001b[0m\u001b[0m\n\u001b[0;32m---> 34\u001b[0;31m         \u001b[0mthis_model_epoch\u001b[0m \u001b[0;34m=\u001b[0m \u001b[0mnp\u001b[0m\u001b[0;34m.\u001b[0m\u001b[0masarray\u001b[0m\u001b[0;34m(\u001b[0m\u001b[0mmodel_epoch\u001b[0m\u001b[0;34m[\u001b[0m\u001b[0mmask\u001b[0m\u001b[0;34m]\u001b[0m\u001b[0;34m)\u001b[0m\u001b[0;34m\u001b[0m\u001b[0;34m\u001b[0m\u001b[0m\n\u001b[0m\u001b[1;32m     35\u001b[0m         \u001b[0mthis_model_time\u001b[0m \u001b[0;34m=\u001b[0m \u001b[0mnp\u001b[0m\u001b[0;34m.\u001b[0m\u001b[0masarray\u001b[0m\u001b[0;34m(\u001b[0m\u001b[0mmodel_time\u001b[0m\u001b[0;34m[\u001b[0m\u001b[0mmask\u001b[0m\u001b[0;34m]\u001b[0m\u001b[0;34m)\u001b[0m\u001b[0;34m\u001b[0m\u001b[0;34m\u001b[0m\u001b[0m\n\u001b[1;32m     36\u001b[0m \u001b[0;34m\u001b[0m\u001b[0m\n",
      "\u001b[0;31mNameError\u001b[0m: name 'np' is not defined"
     ]
    }
   ],
   "source": [
    "run.explore_iteratively(total_iterations=10000000, \n",
    "                        checkpoints=1000, \n",
    "                        burnin_factor=.2, \n",
    "                        thinning_factor=.001,\n",
    "\t                    moves=[(emcee.moves.DEMove(live_dangerously=True), 0.9), \n",
    "                               (emcee.moves.DESnookerMove(live_dangerously=True), 0.1)],\n",
    "\t                    verbose=True, \n",
    "                        tune=True, \n",
    "                        silent=True)"
   ]
  },
  {
   "cell_type": "code",
   "execution_count": null,
   "id": "e65c03f1",
   "metadata": {},
   "outputs": [
    {
     "name": "stderr",
     "output_type": "stream",
     "text": [
      "/opt/anaconda3/envs/exo_env/lib/python3.8/site-packages/emcee/autocorr.py:36: RuntimeWarning: invalid value encountered in true_divide\n",
      "  acf /= acf[0]\n"
     ]
    },
    {
     "data": {
      "text/plain": [
       "array([nan, nan, nan, nan, nan, nan, nan, nan, nan, nan, nan, nan, nan])"
      ]
     },
     "execution_count": 4,
     "metadata": {},
     "output_type": "execute_result"
    }
   ],
   "source": [
    "run.autocorr()"
   ]
  },
  {
   "cell_type": "code",
   "execution_count": null,
   "id": "ad97b6d0",
   "metadata": {},
   "outputs": [],
   "source": []
  }
 ],
 "metadata": {
  "kernelspec": {
   "display_name": "exo_env",
   "language": "python",
   "name": "python3"
  },
  "language_info": {
   "codemirror_mode": {
    "name": "ipython",
    "version": 3
   },
   "file_extension": ".py",
   "mimetype": "text/x-python",
   "name": "python",
   "nbconvert_exporter": "python",
   "pygments_lexer": "ipython3",
   "version": "3.8.16"
  }
 },
 "nbformat": 4,
 "nbformat_minor": 5
}
