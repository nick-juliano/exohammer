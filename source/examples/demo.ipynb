{
 "cells": [
  {
   "cell_type": "markdown",
   "id": "3dc260cb",
   "metadata": {},
   "source": [
    "# Demo: Using Exohammer End-to-End"
   ]
  },
  {
   "cell_type": "code",
   "execution_count": null,
   "id": "ff36b26c",
   "metadata": {},
   "outputs": [],
   "source": [
    "import emcee\n",
    "import json\n",
    "import pandas as pd\n",
    "import exohammer as exo\n",
    "\n",
    "# Load measurement data\n",
    "rv_df = pd.read_csv('./example_data/RV_kepler-36.csv')\n",
    "k36b_ttv_df = pd.read_csv('./example_data/TTV_kepler-36b.csv')\n",
    "k36c_ttv_df = pd.read_csv('./example_data/TTV_kepler-36c.csv')\n",
    "\n",
    "# Load priors for orbital elements and stellar mass\n",
    "with open('./example_data/orbital_elements.json', 'r') as f:\n",
    "    orbital_elements = json.load(f)\n",
    "    m_star = orbital_elements.pop('m_star')\n",
    "\n",
    "orbital_elements"
   ]
  },
  {
   "cell_type": "code",
   "execution_count": null,
   "id": "cdfdf4e3",
   "metadata": {},
   "outputs": [],
   "source": [
    "kepler_36 = exo.planetary_system.PlanetarySystem(nplanets_ttvs=2, \n",
    "                                                 nplanets_rvs=3, \n",
    "                                                 orbital_elements=orbital_elements)\n",
    "\n",
    "data = exo.data.Data(m_star)\n",
    "\n",
    "data.add_ttv(planet_label = 'b',\n",
    "             epoch = k36b_ttv_df['epoch'].astype(int).to_list(),\n",
    "             measured = k36b_ttv_df['Transit Time'].to_list(),\n",
    "             error = k36b_ttv_df['error'].to_list())\n",
    "\n",
    "data.add_ttv(planet_label = 'c',\n",
    "             epoch = k36c_ttv_df['epoch'].astype(int).to_list(),\n",
    "             measured = k36c_ttv_df['Transit Time'].to_list(),\n",
    "             error = k36c_ttv_df['error'].to_list())\n",
    "\n",
    "data.add_rvs(bjds = rv_df['BJD'].to_list(),\n",
    "             velocities= rv_df['mean_velocity'].to_list(),\n",
    "             error = rv_df['velocity_error'].to_list())\n",
    "run = exo.mcmc_run.MCMCRun(kepler_36, data)\n"
   ]
  },
  {
   "cell_type": "code",
   "execution_count": null,
   "id": "97f69aad",
   "metadata": {},
   "outputs": [],
   "source": [
    "run.explore_iteratively(total_iterations=10000000, \n",
    "                        checkpoints=1000, \n",
    "                        burnin_factor=.2, \n",
    "                        thinning_factor=.001,\n",
    "\t                    moves=[(emcee.moves.DEMove(live_dangerously=True), 0.9), \n",
    "                               (emcee.moves.DESnookerMove(live_dangerously=True), 0.1)],\n",
    "\t                    verbose=True, \n",
    "                        tune=True, \n",
    "                        silent=True)"
   ]
  }
 ],
 "metadata": {
  "kernelspec": {
   "display_name": "exo_env",
   "language": "python",
   "name": "python3"
  },
  "language_info": {
   "codemirror_mode": {
    "name": "ipython",
    "version": 3
   },
   "file_extension": ".py",
   "mimetype": "text/x-python",
   "name": "python",
   "nbconvert_exporter": "python",
   "pygments_lexer": "ipython3",
   "version": "3.8.16"
  }
 },
 "nbformat": 4,
 "nbformat_minor": 5
}
